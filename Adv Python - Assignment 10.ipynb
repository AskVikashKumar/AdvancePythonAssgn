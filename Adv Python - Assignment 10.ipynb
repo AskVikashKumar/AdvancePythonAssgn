{
 "cells": [
  {
   "cell_type": "markdown",
   "id": "3b61b9b5",
   "metadata": {},
   "source": [
    "#### Q1. What is the difference between __getattr__ and __getattribute__?\n",
    "Ans: A key difference between `__getattr__ and __getattribute__` is that\n",
    "- `__getattr__ `is only invoked if the attribute wasn't found the usual ways. It's good for implementing a fallback for missing attributes, and is probably the one of two you want.\n",
    "- `__getattribute__` is invoked before looking at the actual attributes on the object, and so can be tricky to implement correctly. You can end up in infinite recursions very easily"
   ]
  },
  {
   "cell_type": "code",
   "execution_count": 3,
   "id": "f375e194",
   "metadata": {},
   "outputs": [
    {
     "name": "stdout",
     "output_type": "stream",
     "text": [
      "1\n",
      "10\n",
      "0\n"
     ]
    }
   ],
   "source": [
    "class Count(object):\n",
    "\n",
    "    def __init__(self,mymin,mymax):\n",
    "        self.mymin=mymin\n",
    "        self.mymax=mymax\n",
    "        self.current=None\n",
    "\n",
    "    def __getattr__(self, item):\n",
    "            self.__dict__[item]=0\n",
    "            return 0\n",
    "\n",
    "    def __getattribute__(self, item):\n",
    "        if item.startswith('cur'):\n",
    "            raise AttributeError\n",
    "        return object.__getattribute__(self,item)\n",
    "        # or we can use ---return super().__getattribute__(item)\n",
    "        # note this class subclass object\n",
    "\n",
    "obj1 = Count(1,10)\n",
    "print(obj1.mymin)\n",
    "print(obj1.mymax)\n",
    "print(obj1.current)"
   ]
  },
  {
   "cell_type": "markdown",
   "id": "024f18dc",
   "metadata": {},
   "source": [
    "#### Q2. What is the difference between properties and descriptors?\n",
    "Ans: The differences between Properties and Descriptors is:\n",
    "- Properties: With Properties we can bind getter, setter and delete functions together with an attribute name, using the built-in property function or property decorator. When we do this, each reference to an attribute looks like simple, direct access, but involes the appropriate function of the object.\n",
    "- Descriptor: With Descriptor we can bind getter, setter and delete functions into a seperate class. we then assign an object of this class to the attribute name in our main class. When we do this, each reference to an attribute looks like simple, direct access but invokes an appropriate function of descriptor object."
   ]
  },
  {
   "cell_type": "markdown",
   "id": "bfa498f9",
   "metadata": {},
   "source": [
    "#### Q3. What are the key differences in functionality between __getattr__ and __getattribute__, as well as properties and descriptors?\n",
    "Ans:The Key Differences between `__getattr__, __getattribute__,` Properties and Descriptors are:\n",
    "- `__getattr__`  this method whenever you request an attribute that hasn't already been defined\n",
    "- `__getattribute__` this method will invoked before looking at the actual attributes on the object means,if we have __getattribute__ method in our class, python invokes this method for every attribute regardless whether it exists or not.\n",
    "- Properties: With Properties we can bind getter, setter and delete functions together with an attribute name, using the built-in property function or property decorator. When we do this, each reference to an attribute looks like simple, direct access, but involes the appropriate function of the object.\n",
    "- Descriptor: With Descriptor we can bind getter, setter and delete functions into a seperate class. we then assign an object of this class to the attribute name in our main class. When we do this, each reference to an attribute looks like simple, direct access but invokes an appropriate function of descriptor object."
   ]
  }
 ],
 "metadata": {
  "kernelspec": {
   "display_name": "Python 3 (ipykernel)",
   "language": "python",
   "name": "python3"
  },
  "language_info": {
   "codemirror_mode": {
    "name": "ipython",
    "version": 3
   },
   "file_extension": ".py",
   "mimetype": "text/x-python",
   "name": "python",
   "nbconvert_exporter": "python",
   "pygments_lexer": "ipython3",
   "version": "3.9.7"
  }
 },
 "nbformat": 4,
 "nbformat_minor": 5
}
