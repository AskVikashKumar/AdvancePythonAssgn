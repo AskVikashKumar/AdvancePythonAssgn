{
 "cells": [
  {
   "cell_type": "markdown",
   "id": "0d814976",
   "metadata": {},
   "source": [
    "#### Q1. What is the purpose of Python's OOP?"
   ]
  },
  {
   "cell_type": "markdown",
   "id": "b05f78f1",
   "metadata": {},
   "source": [
    "Ans: Object-oriented programming is a programming paradigm that provides a means of structuring programs so that properties and behaviors are bundled into individual objects\n",
    "- It aims to implement real-world  entities in the programming like inheritance, polymorphisms, encapsulation, etc. .\n",
    "- Concept of OOPs is to bind the data and the functions that work on that together as a single unit so that no other part of the code can access this data. \n",
    "- Helps in easy maintenance and modification of existing program.Multiple instances of an object can be made."
   ]
  },
  {
   "cell_type": "markdown",
   "id": "78f9d96f",
   "metadata": {},
   "source": [
    "#### Q2. Where does an inheritance search look for an attribute?"
   ]
  },
  {
   "cell_type": "markdown",
   "id": "f851ac97",
   "metadata": {},
   "source": [
    "Ans: The inheritance search happens in bottom up fashion. its starts form object.attr and search all the way up to the parent class to find the find the first occurrence of attribute by looking in object, then in all classes above it, from bottom to top and left to right"
   ]
  },
  {
   "cell_type": "markdown",
   "id": "a6e85f1d",
   "metadata": {},
   "source": [
    "#### Q3. How do you distinguish between a class object and an instance object?"
   ]
  },
  {
   "cell_type": "markdown",
   "id": "5feb8d99",
   "metadata": {},
   "source": [
    "Class Object -When we create a class , a class object is created.The class name itself is class object. we can access class variable using this class name\n",
    "`Exanple  \n",
    "class test:\n",
    "      x = 10\n",
    "     def __init__(self,a,b)\n",
    "     self.a = a\n",
    "     self.b = b\n",
    "    print(test.x)           \n",
    "`\n",
    "` using this text.x we can access its class variables.. We can have only one class objects for a class.`\n",
    "\n",
    "Instance Object - When we access class with paranthesis like test(), this will creat a instance of a class. we can have n numbers of instance objects for same class\n",
    "`Example\n",
    "instObj = test(3,4)\n",
    "instObj.a\n",
    "`"
   ]
  },
  {
   "cell_type": "markdown",
   "id": "5ed9b284",
   "metadata": {},
   "source": [
    "#### Q4. What makes the first argument in a class’s method function special?"
   ]
  },
  {
   "cell_type": "markdown",
   "id": "38368589",
   "metadata": {},
   "source": [
    "Ans: There are three types of methods :-\n",
    "- Instance Methods (object level methods),Class Methods (class level methods) ,Static Methods (general utility methods)\n",
    "- self is the first argument for instance methods. which refers to the object itself,cls is the first argument for class  methods which refers to the class itself."
   ]
  },
  {
   "cell_type": "markdown",
   "id": "edf37887",
   "metadata": {},
   "source": [
    "#### Q5. What is the purpose of the __init__ method?"
   ]
  },
  {
   "cell_type": "markdown",
   "id": "e889496b",
   "metadata": {},
   "source": [
    "Ans: It is a reseved method in python classes, serves the role of a constructor , it is called when an object is created from a class and it allows the class to initialize the attributes of the class."
   ]
  },
  {
   "cell_type": "markdown",
   "id": "3c9036e6",
   "metadata": {},
   "source": [
    "#### Q6. What is the process for creating a class instance?"
   ]
  },
  {
   "cell_type": "markdown",
   "id": "148db36d",
   "metadata": {},
   "source": [
    "To create instances of a class,\n",
    "- Create a class\n",
    "- call the class using class name and assign it to a variable (object variable)\n",
    "- pass in whatever arguments its init method accepts"
   ]
  },
  {
   "cell_type": "markdown",
   "id": "13b29fd2",
   "metadata": {},
   "source": [
    "`\n",
    "Example\n",
    "class Employee:\n",
    "\n",
    "    def __init__(self, name, salary):\n",
    "        self.name = name\n",
    "        self.salary = salary\n",
    "        \n",
    "        \n",
    "objClass = Employee('Arvk','120000')\n",
    "`"
   ]
  },
  {
   "cell_type": "markdown",
   "id": "e587115d",
   "metadata": {},
   "source": [
    "#### Q7. What is the process for creating a class?"
   ]
  },
  {
   "cell_type": "markdown",
   "id": "554f7ced",
   "metadata": {},
   "source": [
    "process to create class\n",
    "- class definition starts with keyword class\n",
    "- follwed by classname and ':'\n",
    "- class will have doc string\n",
    "- class should have at least one statements.\n",
    "`\n",
    "Example\n",
    "class MyNewClass:\n",
    "    '''This is a docstring. I have created a new class'''\n",
    "    pass\n",
    "`    "
   ]
  },
  {
   "cell_type": "markdown",
   "id": "e6a77d00",
   "metadata": {},
   "source": [
    "#### Q8. How would you define the superclasses of a class?"
   ]
  },
  {
   "cell_type": "markdown",
   "id": "37ef51fc",
   "metadata": {},
   "source": [
    "Ans: Superclass/Parent class is given as a arugment to the child class.\n",
    "Ex.: class Employee(Person):\n",
    "Above example child class Employee inherits attributes and methofs from Superclass/Parent Person"
   ]
  }
 ],
 "metadata": {
  "kernelspec": {
   "display_name": "Python 3 (ipykernel)",
   "language": "python",
   "name": "python3"
  },
  "language_info": {
   "codemirror_mode": {
    "name": "ipython",
    "version": 3
   },
   "file_extension": ".py",
   "mimetype": "text/x-python",
   "name": "python",
   "nbconvert_exporter": "python",
   "pygments_lexer": "ipython3",
   "version": "3.9.7"
  }
 },
 "nbformat": 4,
 "nbformat_minor": 5
}
