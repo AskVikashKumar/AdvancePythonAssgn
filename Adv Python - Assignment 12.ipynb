{
 "cells": [
  {
   "cell_type": "markdown",
   "id": "4e063133",
   "metadata": {},
   "source": [
    "#### Q1. Does assigning a value to a string&#39;s indexed character violate Python&#39;s string immutability?\n",
    "Ans: String’s indexed character cannot to be assigned a New value , as Strings are immutable.\n",
    "`Example:\n",
    "name = \"Reinforcement\"\n",
    "print(id(name)) #73472\n",
    "name[0] = \"V\" # Raises TypeError `"
   ]
  },
  {
   "cell_type": "markdown",
   "id": "4793a2c4",
   "metadata": {},
   "source": [
    "#### Q2. Does using the += operator to concatenate strings violate Python&#39;s string immutability? Why or why not?\n",
    "Ans:`+=` operator is used to concatenate strings, it does not violate Python’s string immutability Property. Because doing so new creates a new association with data and variable. E.g. `str_1=\"a\"` and `str_1+=\"b`. effect of this statements to create string `ab` and reassign it to variable `str_1`, any string data is not actually modified. "
   ]
  },
  {
   "cell_type": "code",
   "execution_count": 1,
   "id": "2593d07a",
   "metadata": {},
   "outputs": [
    {
     "name": "stdout",
     "output_type": "stream",
     "text": [
      "2787022067568\n",
      "2787096614640\n"
     ]
    }
   ],
   "source": [
    "str_1 = 'a'\n",
    "print(id(str_1))\n",
    "str_1 += 'b'\n",
    "print(id(str_1)) # Does not Modify existing string, Creates a New String Object"
   ]
  },
  {
   "cell_type": "markdown",
   "id": "90753876",
   "metadata": {},
   "source": [
    "#### Q3. In Python, how many different ways are there to index a character?\n",
    "Ans: A Character in string can be indexed using string name followed by index number of character in square bracket. Positive Indexing i.e. first index is 0 an so on, or Negative Indexing i.e. last letter is -1 and so on can be used to index a character"
   ]
  },
  {
   "cell_type": "code",
   "execution_count": 2,
   "id": "4d57054f",
   "metadata": {},
   "outputs": [
    {
     "name": "stdout",
     "output_type": "stream",
     "text": [
      "a d i\n",
      "r a i\n"
     ]
    }
   ],
   "source": [
    "in_string = \"Switch Blade Stealth Viper Warrir\"\n",
    "print(in_string[9],in_string[10],in_string[2]) # Positive Indexing\n",
    "print(in_string[-1],in_string[-5],in_string[-2]) # Negative Indexing"
   ]
  },
  {
   "cell_type": "markdown",
   "id": "cd2ea750",
   "metadata": {},
   "source": [
    "#### Q4. What is the relationship between indexing and slicing?\n",
    "Ans: We can access elements of sequence datatypes by using slicing and indexing. Indexing is used to obtaining individual element while slicing for sequence of elements."
   ]
  },
  {
   "cell_type": "code",
   "execution_count": 3,
   "id": "81d661b5",
   "metadata": {},
   "outputs": [
    {
     "name": "stdout",
     "output_type": "stream",
     "text": [
      "n u o\n",
      "neuron Full St\n"
     ]
    }
   ],
   "source": [
    "Sampl_str = \"Ineuron Full Stack Data Science\"\n",
    "print(Sampl_str[1],Sampl_str[3],Sampl_str[5]) # Indexing\n",
    "print(Sampl_str[1:15]) # Slicing"
   ]
  },
  {
   "cell_type": "markdown",
   "id": "d2aa57dc",
   "metadata": {},
   "source": [
    "#### Q5. What is an indexed character&#39;s exact data type? What is the data form of a slicing-generated substring?\n",
    "Ans: Indexed characters and sliced substrings have datatype String."
   ]
  },
  {
   "cell_type": "code",
   "execution_count": 5,
   "id": "8dfd73a2",
   "metadata": {},
   "outputs": [
    {
     "name": "stdout",
     "output_type": "stream",
     "text": [
      "<class 'str'>\n",
      "<class 'str'>\n"
     ]
    }
   ],
   "source": [
    "Sampl_str = \"Ineuron Full Stack Data Science\"\n",
    "print(type(Sampl_str[1]))\n",
    "print(type(Sampl_str[1:15]))"
   ]
  },
  {
   "cell_type": "markdown",
   "id": "595783ac",
   "metadata": {},
   "source": [
    "#### Q6. What is the relationship between string and character &quot;types&quot; in Python?\n",
    "Ans: Object that contains sequence of character datatypes are called String."
   ]
  },
  {
   "cell_type": "markdown",
   "id": "a8bb2b3e",
   "metadata": {},
   "source": [
    "#### Q7. Identify at least two operators and one method that allow you to combine one or more smaller strings to create a larger string.\n",
    "Ans: `+, += and * ` allow to combine one or more smaller strings to create a larger string. `<string>.join(<sep>) `method joins element of iterable type like list and tuple to get a combined string."
   ]
  },
  {
   "cell_type": "code",
   "execution_count": 6,
   "id": "6d2ddf0b",
   "metadata": {},
   "outputs": [
    {
     "name": "stdout",
     "output_type": "stream",
     "text": [
      "Ineuron Full Stack Data Science FSDS\n",
      "FSDS FSDS FSDS \n",
      "I N E U R O N\n",
      "i n e u r o n\n"
     ]
    }
   ],
   "source": [
    "demn_string = 'Ineuron '\n",
    "demn_string += 'Full Stack Data Science'\n",
    "print(demn_string + ' FSDS')\n",
    "print('FSDS '*3)\n",
    "print(\" \".join(['I','N','E','U','R','O','N'])) # List Iterable\n",
    "print(\" \".join(('I','N','E','U','R','O','N')).lower()) # Tuple Iterable"
   ]
  },
  {
   "cell_type": "markdown",
   "id": "75cc511d",
   "metadata": {},
   "source": [
    "#### Q8. What is the benefit of first checking the target string with in or not in before using the index method to find a substring?\n",
    "Ans: Checking the target string with in or not Operators before using the index method to find a substring just helps confirming availability of substring and thus avoid raising of ValueError.\n",
    "`Example:\n",
    "tes_string = \"ineuron\"\n",
    "tes_string.index('x') # Raises ValueError\n",
    "tes_string.index('u') # 3 `"
   ]
  },
  {
   "cell_type": "markdown",
   "id": "0aff0015",
   "metadata": {},
   "source": [
    "#### Q9. Which operators and built-in string methods produce simple Boolean (true/false) results?\n",
    "Ans: The String Operators and built-in methods to Produce Simple Boolean (True/False) Results are:\n",
    "- `in`\n",
    "- `not`\n",
    "- `<string>.isalpha()`\n",
    "- `<string>.isalnum()`\n",
    "- `<string>.isdecimal()`\n",
    "- `<string>.isdigit()`\n",
    "- `<string>.islower()`\n",
    "- `<string>.isnumeric()`\n",
    "- `<string>.isprintable()`\n",
    "- `<string>.isspace()`\n",
    "- `<string>.istitle()`"
   ]
  }
 ],
 "metadata": {
  "kernelspec": {
   "display_name": "Python 3 (ipykernel)",
   "language": "python",
   "name": "python3"
  },
  "language_info": {
   "codemirror_mode": {
    "name": "ipython",
    "version": 3
   },
   "file_extension": ".py",
   "mimetype": "text/x-python",
   "name": "python",
   "nbconvert_exporter": "python",
   "pygments_lexer": "ipython3",
   "version": "3.9.7"
  }
 },
 "nbformat": 4,
 "nbformat_minor": 5
}
