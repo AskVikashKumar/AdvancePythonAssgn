{
 "cells": [
  {
   "cell_type": "markdown",
   "id": "d42b29ee",
   "metadata": {},
   "source": [
    "#### Q1. What is the relationship between classes and modules?"
   ]
  },
  {
   "cell_type": "markdown",
   "id": "c2bccfa6",
   "metadata": {},
   "source": [
    "Ans: A Python class is like an outline/blueprint/mold for creating a new object.Every time a class object is instantiated, which is when we declare a variable, a new object is initiated from scratch.\n",
    "Whereas  Modules are simply files with the `. py` extension containing Python code that can be imported inside another Python Program. In simple terms, we can consider a module to be the same as a code library or a file that contains a set of functions/Classes that you want to include in your application."
   ]
  },
  {
   "cell_type": "markdown",
   "id": "8768b784",
   "metadata": {},
   "source": [
    "#### Q2. How do you make instances and classes?"
   ]
  },
  {
   "cell_type": "markdown",
   "id": "50887a77",
   "metadata": {},
   "source": [
    "Ans: For creating a class instance. we call a class by its name and pass the arguments which its `__init__` method accepts.\n",
    "Example: rohan = employee('Male',16000), Here rohan is an instance of class employee with attriubutes 'Male' and 16000.\n",
    "Whereas for creating a class, we use the `Class` keyword. Class keyword is followed by classname and semicolon.\n",
    "Example: In the below code Employee is a class created with `class` keyword with arguments gender and salary. "
   ]
  },
  {
   "cell_type": "code",
   "execution_count": null,
   "id": "fe99eae4",
   "metadata": {},
   "outputs": [],
   "source": [
    "class Employee:\n",
    "    def __init__(self, gender,salary):\n",
    "        self.gender = gender\n",
    "        self.salary = salary"
   ]
  },
  {
   "cell_type": "markdown",
   "id": "85c1392f",
   "metadata": {},
   "source": [
    "#### Q3. Where and how should be class attributes created?"
   ]
  },
  {
   "cell_type": "markdown",
   "id": "67c103df",
   "metadata": {},
   "source": [
    "Ans: Class attributes or Class level Attributes belong to the class itself. these attributes will be shared by all the instances of the class. Hence these attributes are usually created/defined in the top of class definiation outside all methods.\n",
    "Example:In the below code we are defining a class attribute called no_of_wheels which will be shared by all the instances of the class Car"
   ]
  },
  {
   "cell_type": "code",
   "execution_count": null,
   "id": "0773950f",
   "metadata": {},
   "outputs": [],
   "source": [
    "class Car:\n",
    "    no_of_wheels = 4; # this is a class attribute\n",
    "    def __init__(self,color,price,engine):\n",
    "        self.color = color # All this are instance attributes\n",
    "        self.price = price\n",
    "        self.engine = engine"
   ]
  },
  {
   "cell_type": "markdown",
   "id": "c2070e7e",
   "metadata": {},
   "source": [
    "#### Q4. Where and how are instance attributes created?"
   ]
  },
  {
   "cell_type": "markdown",
   "id": "6b95eb07",
   "metadata": {},
   "source": [
    "Ans: Instances attributes are passed to the class when an object of the class is created. Unlike class attributes, instance attributes are not shared by all objects of the classs. instead each object maintains its own copy of instance attributes at object level. whereas incase of class attributes all instances of class refer to a single copy. Usually instance attributes are defined within the `__init__` method of class\n",
    "Example: In the below sample code we are creating a class Car with instance varaibles color, price, engine, which will be provided when an instance of class Car is created."
   ]
  },
  {
   "cell_type": "code",
   "execution_count": null,
   "id": "cec626c8",
   "metadata": {},
   "outputs": [],
   "source": [
    "class Car:\n",
    "    def __init__(self,color,price,engine):\n",
    "        self.color = color # All this are instance attributes\n",
    "        self.price = price\n",
    "        self.engine = engine\n",
    "        \n",
    "nexon_ev = Car('Dark Edition', 1600000, 'electric')  \n",
    "safari = Car('Kaziranga Edition',2800000, 'petrol')\n",
    "# nexon_ev, safari are both the instances of class Car with different instance variables."
   ]
  },
  {
   "cell_type": "markdown",
   "id": "de54bbae",
   "metadata": {},
   "source": [
    "#### Q5. What does the term \"self\" in a Python class mean?"
   ]
  },
  {
   "cell_type": "markdown",
   "id": "8fe7db9f",
   "metadata": {},
   "source": [
    "Ans:`self` represents the instance of the class (it represents the object itself). By using the “self” keyword we can access the attributes and methods of the class with in the class in python. It binds the attributes with the given arguments."
   ]
  },
  {
   "cell_type": "code",
   "execution_count": 1,
   "id": "82a11882",
   "metadata": {},
   "outputs": [
    {
     "name": "stdout",
     "output_type": "stream",
     "text": [
      "{'color': 'Dark Edition', 'price': 1600000, 'engine': 'electric'}\n",
      "{'color': 'Kaziranga Edition', 'price': 2800000, 'engine': 'petrol'}\n"
     ]
    }
   ],
   "source": [
    "class Car:\n",
    "    def __init__(self,color,price,engine):\n",
    "        self.color = color # All this are instance attributes\n",
    "        self.price = price\n",
    "        self.engine = engine\n",
    "\n",
    "nexon_ev = Car('Dark Edition', 1600000, 'electric')  \n",
    "safari = Car('Kaziranga Edition',2800000, 'petrol')\n",
    "\n",
    "print(nexon_ev.__dict__)\n",
    "print(safari.__dict__)"
   ]
  },
  {
   "cell_type": "markdown",
   "id": "ace74490",
   "metadata": {},
   "source": [
    "#### Q6. How does a Python class handle operator overloading?"
   ]
  },
  {
   "cell_type": "markdown",
   "id": "225f472a",
   "metadata": {},
   "source": [
    "Ans: Python Classes handle operator overloading by using special methods called `Magic methods`. these special methods usually begin and end with `__` (double underscore)  \n",
    "Example: Magic methods for basic arithmetic operators are:\n",
    "- `+ -> __add__()`\n",
    "- `- -> __sub__()`\n",
    "- `* -> __mul__()`\n",
    "- `/ -> __div__()`"
   ]
  },
  {
   "cell_type": "code",
   "execution_count": 2,
   "id": "45dd0fca",
   "metadata": {},
   "outputs": [
    {
     "name": "stdout",
     "output_type": "stream",
     "text": [
      "The total number of pages in 2 books is 300\n"
     ]
    }
   ],
   "source": [
    "class Book:\n",
    "    def __init__(self,pages):\n",
    "        self.pages = pages\n",
    "    def __add__(self,other):\n",
    "        return self.pages + other.pages\n",
    "b1 = Book(100)\n",
    "b2 = Book(200)\n",
    "print('The total number of pages in 2 books is' , b1+b2)"
   ]
  },
  {
   "cell_type": "markdown",
   "id": "a016f7f5",
   "metadata": {},
   "source": [
    "#### Q7. When do you consider allowing operator overloading of your classes?"
   ]
  },
  {
   "cell_type": "markdown",
   "id": "ad14a97e",
   "metadata": {},
   "source": [
    "Ans: When we want to have different meaning for the same operator accroding to the context we use operator overloading."
   ]
  },
  {
   "cell_type": "markdown",
   "id": "84b6536e",
   "metadata": {},
   "source": [
    "#### Q8. What is the most popular form of operator overloading?"
   ]
  },
  {
   "cell_type": "markdown",
   "id": "724bd763",
   "metadata": {},
   "source": [
    "Ans: The most popular form of operator overloading in python is by special methods called `Magic methods`. Which usually beign and end with double underscore `__<method name>__`."
   ]
  },
  {
   "cell_type": "code",
   "execution_count": 3,
   "id": "38c16018",
   "metadata": {},
   "outputs": [
    {
     "name": "stdout",
     "output_type": "stream",
     "text": [
      "Sum -> 3\n",
      "String Concatenation -> Vik Ask\n"
     ]
    }
   ],
   "source": [
    "class demo_Tu:\n",
    "    def __init__(self,a):\n",
    "        self.a = a\n",
    "    def __add__(self,o):\n",
    "        return self.a+o.a\n",
    "obj1 = demo_Tu(1)\n",
    "obj2 = demo_Tu(2)\n",
    "obj3 = demo_Tu('Vik')\n",
    "obj4 = demo_Tu(' Ask')\n",
    "print('Sum ->', obj1+obj2 )\n",
    "print('String Concatenation ->', obj3+obj4 )"
   ]
  },
  {
   "cell_type": "markdown",
   "id": "becbc407",
   "metadata": {},
   "source": [
    "#### Q9. What are the two most important concepts to grasp in order to comprehend Python OOP code?"
   ]
  },
  {
   "cell_type": "markdown",
   "id": "b9855ff8",
   "metadata": {},
   "source": [
    "Ans: `Classes and objects` are the two concepts to comprehend python OOP code as more formally objects are entities that represent instances of general abstract concept called class\n",
    "Along with classes and objects the important concepts to grasp are:\n",
    "- `Inheritence`\n",
    "- `Abstraction`\n",
    "- `Polymorphism`\n",
    "- `Encapsulation`"
   ]
  },
  {
   "cell_type": "code",
   "execution_count": null,
   "id": "241eb714",
   "metadata": {},
   "outputs": [],
   "source": []
  }
 ],
 "metadata": {
  "kernelspec": {
   "display_name": "Python 3 (ipykernel)",
   "language": "python",
   "name": "python3"
  },
  "language_info": {
   "codemirror_mode": {
    "name": "ipython",
    "version": 3
   },
   "file_extension": ".py",
   "mimetype": "text/x-python",
   "name": "python",
   "nbconvert_exporter": "python",
   "pygments_lexer": "ipython3",
   "version": "3.9.7"
  }
 },
 "nbformat": 4,
 "nbformat_minor": 5
}
